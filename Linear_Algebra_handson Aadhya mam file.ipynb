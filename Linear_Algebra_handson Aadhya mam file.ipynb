{
  "nbformat": 4,
  "nbformat_minor": 0,
  "metadata": {
    "colab": {
      "provenance": [],
      "include_colab_link": true
    },
    "kernelspec": {
      "name": "python3",
      "display_name": "Python 3"
    },
    "language_info": {
      "name": "python"
    }
  },
  "cells": [
    {
      "cell_type": "markdown",
      "metadata": {
        "id": "view-in-github",
        "colab_type": "text"
      },
      "source": [
        "<a href=\"https://colab.research.google.com/github/quantumhome/DataAnalysisCaseStudy/blob/master/Linear_Algebra_handson%20Aadhya%20mam%20file.ipynb\" target=\"_parent\"><img src=\"https://colab.research.google.com/assets/colab-badge.svg\" alt=\"Open In Colab\"/></a>"
      ]
    },
    {
      "cell_type": "markdown",
      "source": [
        "Good Morning, Everyone! 🌟\n",
        "\n",
        "Welcome to today’s Linear Algebra Hands-On Session! 🎉\n",
        "We’re thrilled to have you join us for this exciting journey into the world of matrices, vectors, and transformations. 📐🧮\n",
        "\n",
        "💡 A Quick Reminder:\n",
        "Please be interactive during the session! If you have any questions or doubts, don’t hesitate to ask in the chat box—we’re here to learn together. 💬✨\n",
        "\n",
        "We’ll begin shortly as a few more learners are still joining. ⏳\n",
        " get ready to dive in!\n",
        "\n",
        "Looking forward to an engaging and insightful session ahead! 🚀\n",
        "Stay curious, and let’s make this a great learning experience. 🌟"
      ],
      "metadata": {
        "id": "pOMjCHixduHG"
      }
    },
    {
      "cell_type": "markdown",
      "source": [
        "#real life examples\n",
        "netflix project---svd---singluar value decomposition\n",
        "\n",
        "graphics\n",
        "\n",
        "animations\n",
        "\n",
        "pca-lda----principal component analysis,linear discriminant analysis\n"
      ],
      "metadata": {
        "id": "fJ56DsxDjH-r"
      }
    },
    {
      "cell_type": "code",
      "execution_count": null,
      "metadata": {
        "id": "t-v-7j-XdZ-j"
      },
      "outputs": [],
      "source": [
        "#matrix\n",
        "#add,sub,mul,div"
      ]
    },
    {
      "cell_type": "code",
      "source": [
        "import numpy as np"
      ],
      "metadata": {
        "id": "sPTMr7Wunb3_"
      },
      "execution_count": null,
      "outputs": []
    },
    {
      "cell_type": "code",
      "source": [
        "A = np.array([[1,2],[3,4]])\n",
        "B= np.array([[5,6],[7,8]])"
      ],
      "metadata": {
        "id": "oG8REqM3nuuO"
      },
      "execution_count": null,
      "outputs": []
    },
    {
      "cell_type": "code",
      "source": [
        "C = A+B\n",
        "C"
      ],
      "metadata": {
        "colab": {
          "base_uri": "https://localhost:8080/"
        },
        "id": "nVf0HFqAoJHx",
        "outputId": "817b9d49-8f3c-4b6a-e8f7-d5b4ff95cf4b"
      },
      "execution_count": null,
      "outputs": [
        {
          "output_type": "execute_result",
          "data": {
            "text/plain": [
              "array([[ 6,  8],\n",
              "       [10, 12]])"
            ]
          },
          "metadata": {},
          "execution_count": 4
        }
      ]
    },
    {
      "cell_type": "code",
      "source": [
        "D = A - B\n",
        "D"
      ],
      "metadata": {
        "colab": {
          "base_uri": "https://localhost:8080/"
        },
        "id": "qCWef1GGoNlM",
        "outputId": "8bef0c96-8d37-4a61-a3cb-95919af0680f"
      },
      "execution_count": null,
      "outputs": [
        {
          "output_type": "execute_result",
          "data": {
            "text/plain": [
              "array([[-4, -4],\n",
              "       [-4, -4]])"
            ]
          },
          "metadata": {},
          "execution_count": 5
        }
      ]
    },
    {
      "cell_type": "code",
      "source": [
        "E = A * B\n",
        "E"
      ],
      "metadata": {
        "colab": {
          "base_uri": "https://localhost:8080/"
        },
        "id": "bgsX8RcvodWD",
        "outputId": "c65aac2c-4911-4dce-ecff-7552c33f3e2e"
      },
      "execution_count": null,
      "outputs": [
        {
          "output_type": "execute_result",
          "data": {
            "text/plain": [
              "array([[ 5, 12],\n",
              "       [21, 32]])"
            ]
          },
          "metadata": {},
          "execution_count": 6
        }
      ]
    },
    {
      "cell_type": "code",
      "source": [
        "F = A / B\n",
        "F"
      ],
      "metadata": {
        "colab": {
          "base_uri": "https://localhost:8080/"
        },
        "id": "ncHAj91wpti3",
        "outputId": "14b7b9d2-854b-43be-de86-3a9df12912a1"
      },
      "execution_count": null,
      "outputs": [
        {
          "output_type": "execute_result",
          "data": {
            "text/plain": [
              "array([[0.2       , 0.33333333],\n",
              "       [0.42857143, 0.5       ]])"
            ]
          },
          "metadata": {},
          "execution_count": 7
        }
      ]
    },
    {
      "cell_type": "code",
      "source": [
        "#dot product and cross product\n",
        "dotA = np.dot(A,B)\n",
        "dotA"
      ],
      "metadata": {
        "colab": {
          "base_uri": "https://localhost:8080/"
        },
        "id": "y4SrlGfip0tE",
        "outputId": "07dc1a6a-9463-4619-903e-2b8fc16255f2"
      },
      "execution_count": null,
      "outputs": [
        {
          "output_type": "execute_result",
          "data": {
            "text/plain": [
              "array([[19, 22],\n",
              "       [43, 50]])"
            ]
          },
          "metadata": {},
          "execution_count": 8
        }
      ]
    },
    {
      "cell_type": "code",
      "source": [
        "dotA = np.cross(A,B)\n",
        "dotA"
      ],
      "metadata": {
        "colab": {
          "base_uri": "https://localhost:8080/"
        },
        "id": "IglVkSUjqivS",
        "outputId": "fa5700bd-c9db-4399-d791-d17f50602642"
      },
      "execution_count": null,
      "outputs": [
        {
          "output_type": "execute_result",
          "data": {
            "text/plain": [
              "array([-4, -4])"
            ]
          },
          "metadata": {},
          "execution_count": 9
        }
      ]
    },
    {
      "cell_type": "code",
      "source": [
        "import numpy as np\n",
        "a = np.array([[1,2,3],[4,5,6]])\n",
        "b = np.array([10,20])\n",
        "result = a+b\n",
        "print(result)"
      ],
      "metadata": {
        "colab": {
          "base_uri": "https://localhost:8080/",
          "height": 193
        },
        "id": "gpysU8Wmv5hE",
        "outputId": "5195823b-f9bc-4b58-a971-b828997ecf45"
      },
      "execution_count": null,
      "outputs": [
        {
          "output_type": "error",
          "ename": "ValueError",
          "evalue": "operands could not be broadcast together with shapes (2,3) (2,) ",
          "traceback": [
            "\u001b[0;31m---------------------------------------------------------------------------\u001b[0m",
            "\u001b[0;31mValueError\u001b[0m                                Traceback (most recent call last)",
            "\u001b[0;32m<ipython-input-11-b799c7b08880>\u001b[0m in \u001b[0;36m<cell line: 4>\u001b[0;34m()\u001b[0m\n\u001b[1;32m      2\u001b[0m \u001b[0ma\u001b[0m \u001b[0;34m=\u001b[0m \u001b[0mnp\u001b[0m\u001b[0;34m.\u001b[0m\u001b[0marray\u001b[0m\u001b[0;34m(\u001b[0m\u001b[0;34m[\u001b[0m\u001b[0;34m[\u001b[0m\u001b[0;36m1\u001b[0m\u001b[0;34m,\u001b[0m\u001b[0;36m2\u001b[0m\u001b[0;34m,\u001b[0m\u001b[0;36m3\u001b[0m\u001b[0;34m]\u001b[0m\u001b[0;34m,\u001b[0m\u001b[0;34m[\u001b[0m\u001b[0;36m4\u001b[0m\u001b[0;34m,\u001b[0m\u001b[0;36m5\u001b[0m\u001b[0;34m,\u001b[0m\u001b[0;36m6\u001b[0m\u001b[0;34m]\u001b[0m\u001b[0;34m]\u001b[0m\u001b[0;34m)\u001b[0m\u001b[0;34m\u001b[0m\u001b[0;34m\u001b[0m\u001b[0m\n\u001b[1;32m      3\u001b[0m \u001b[0mb\u001b[0m \u001b[0;34m=\u001b[0m \u001b[0mnp\u001b[0m\u001b[0;34m.\u001b[0m\u001b[0marray\u001b[0m\u001b[0;34m(\u001b[0m\u001b[0;34m[\u001b[0m\u001b[0;36m10\u001b[0m\u001b[0;34m,\u001b[0m\u001b[0;36m20\u001b[0m\u001b[0;34m]\u001b[0m\u001b[0;34m)\u001b[0m\u001b[0;34m\u001b[0m\u001b[0;34m\u001b[0m\u001b[0m\n\u001b[0;32m----> 4\u001b[0;31m \u001b[0mresult\u001b[0m \u001b[0;34m=\u001b[0m \u001b[0ma\u001b[0m\u001b[0;34m+\u001b[0m\u001b[0mb\u001b[0m\u001b[0;34m\u001b[0m\u001b[0;34m\u001b[0m\u001b[0m\n\u001b[0m\u001b[1;32m      5\u001b[0m \u001b[0mprint\u001b[0m\u001b[0;34m(\u001b[0m\u001b[0mresult\u001b[0m\u001b[0;34m)\u001b[0m\u001b[0;34m\u001b[0m\u001b[0;34m\u001b[0m\u001b[0m\n",
            "\u001b[0;31mValueError\u001b[0m: operands could not be broadcast together with shapes (2,3) (2,) "
          ]
        }
      ]
    },
    {
      "cell_type": "code",
      "source": [
        "#brodcasting of array---\n",
        "one rule---what ever highest dimension exist we have change the other dimensio to the same as the higher one"
      ],
      "metadata": {
        "id": "Ji-VSLhbqpbj"
      },
      "execution_count": null,
      "outputs": []
    },
    {
      "cell_type": "code",
      "source": [
        "from numpy.linalg import inv\n",
        "E = np.array([[2,1],[7,4]])#--#find the inverse\n",
        "X = inv(E)\n",
        "X"
      ],
      "metadata": {
        "colab": {
          "base_uri": "https://localhost:8080/"
        },
        "id": "mztaYLyj7ZNi",
        "outputId": "9794d8d1-ad0d-47c4-d7c4-9f406aa3cc25"
      },
      "execution_count": null,
      "outputs": [
        {
          "output_type": "execute_result",
          "data": {
            "text/plain": [
              "array([[ 4., -1.],\n",
              "       [-7.,  2.]])"
            ]
          },
          "metadata": {},
          "execution_count": 15
        }
      ]
    },
    {
      "cell_type": "code",
      "source": [
        "#pro: matrix power A^5\n",
        "A = np.array([[1,2],[3,4]])\n",
        "x = np.linalg.matrix_power(A, 5)\n",
        "x"
      ],
      "metadata": {
        "colab": {
          "base_uri": "https://localhost:8080/"
        },
        "id": "VubYvcIB8ao-",
        "outputId": "a4aa20b7-337f-4b1e-e0ba-978ae374b30f"
      },
      "execution_count": null,
      "outputs": [
        {
          "output_type": "execute_result",
          "data": {
            "text/plain": [
              "array([[1069, 1558],\n",
              "       [2337, 3406]])"
            ]
          },
          "metadata": {},
          "execution_count": 16
        }
      ]
    },
    {
      "cell_type": "code",
      "source": [
        "a = np.array([[1,2],[3,4]])\n",
        "y = a**5\n",
        "y"
      ],
      "metadata": {
        "colab": {
          "base_uri": "https://localhost:8080/"
        },
        "id": "qDG8l1CM9t49",
        "outputId": "da884a55-e496-4275-d9e0-a89c608c6a7d"
      },
      "execution_count": null,
      "outputs": [
        {
          "output_type": "execute_result",
          "data": {
            "text/plain": [
              "array([[   1,   32],\n",
              "       [ 243, 1024]])"
            ]
          },
          "metadata": {},
          "execution_count": 18
        }
      ]
    },
    {
      "cell_type": "code",
      "source": [
        "#orthogonal--- two vector are said t be orthogonal whenthey are perpendicular to each other\n",
        "#when their dot product  as zero"
      ],
      "metadata": {
        "id": "sHM9a9Iz98kT"
      },
      "execution_count": null,
      "outputs": []
    },
    {
      "cell_type": "code",
      "source": [
        "u = np.array([1,2,3])\n",
        "v = np.array([3,-6,2])\n",
        "\n",
        "#whether are they orthogonal\n",
        "x = np.dot(u,v)\n",
        "x"
      ],
      "metadata": {
        "colab": {
          "base_uri": "https://localhost:8080/"
        },
        "id": "CYG2r5m9_dbJ",
        "outputId": "ef8e005a-390b-47a7-b143-7047e061abe1"
      },
      "execution_count": null,
      "outputs": [
        {
          "output_type": "execute_result",
          "data": {
            "text/plain": [
              "-3"
            ]
          },
          "metadata": {},
          "execution_count": 19
        }
      ]
    },
    {
      "cell_type": "code",
      "source": [
        "u = np.array([1,0,0])\n",
        "v = np.array([0,1,0])\n",
        "\n",
        "x = np.dot(u,v)\n",
        "x"
      ],
      "metadata": {
        "colab": {
          "base_uri": "https://localhost:8080/"
        },
        "id": "SpAJQXUDBZbX",
        "outputId": "80ce060d-ed70-4cb7-fbd6-08bd9fd7d8f6"
      },
      "execution_count": null,
      "outputs": [
        {
          "output_type": "execute_result",
          "data": {
            "text/plain": [
              "0"
            ]
          },
          "metadata": {},
          "execution_count": 20
        }
      ]
    },
    {
      "cell_type": "code",
      "source": [
        "#matrix decompostion\n",
        "#breaking down the matrix into simpler matrix that can help to understand the patterns the solve yhe pblms easily\n",
        "#lu---lower traiungle,upper traingle\n",
        "#QR\n",
        "lower triangle---abive diagnal all elements ate zero\n",
        "upper-below diagonal all elements are zero"
      ],
      "metadata": {
        "id": "qMN8UieYBvrc"
      },
      "execution_count": null,
      "outputs": []
    },
    {
      "cell_type": "code",
      "source": [
        "from scipy.linalg import lu"
      ],
      "metadata": {
        "id": "YFsiNg3KErWY"
      },
      "execution_count": null,
      "outputs": []
    },
    {
      "cell_type": "code",
      "source": [
        "G = np.array([[4,3],[6,3]])\n",
        "P,L,U =lu(G)\n",
        "print(P)\n",
        "print(L)\n",
        "print(U)"
      ],
      "metadata": {
        "colab": {
          "base_uri": "https://localhost:8080/"
        },
        "id": "r7aReL98ExUs",
        "outputId": "6848b17f-2aa4-4f1c-975a-656f6b482740"
      },
      "execution_count": null,
      "outputs": [
        {
          "output_type": "stream",
          "name": "stdout",
          "text": [
            "[[0. 1.]\n",
            " [1. 0.]]\n",
            "[[1.         0.        ]\n",
            " [0.66666667 1.        ]]\n",
            "[[6. 3.]\n",
            " [0. 1.]]\n"
          ]
        }
      ]
    },
    {
      "cell_type": "code",
      "source": [
        "#QR---one matrix will be divided into componets orthogonal magrix---Q\n",
        "#AND RIGHT ANGLE MATRIX"
      ],
      "metadata": {
        "id": "w_MfljEEFQCd"
      },
      "execution_count": null,
      "outputs": []
    },
    {
      "cell_type": "code",
      "source": [
        "from scipy.linalg import qr\n",
        "G = np.array([[4,3],[6,3]])\n",
        "Q, R =qr(G)\n",
        "print(Q)\n",
        "print(R)"
      ],
      "metadata": {
        "colab": {
          "base_uri": "https://localhost:8080/"
        },
        "id": "AbP_Xib4HRhG",
        "outputId": "63e38d72-72dc-44a5-b6f9-7187f08b138d"
      },
      "execution_count": null,
      "outputs": [
        {
          "output_type": "stream",
          "name": "stdout",
          "text": [
            "[[-0.5547002  -0.83205029]\n",
            " [-0.83205029  0.5547002 ]]\n",
            "[[-7.21110255 -4.16025147]\n",
            " [ 0.         -0.83205029]]\n"
          ]
        }
      ]
    },
    {
      "cell_type": "code",
      "source": [],
      "metadata": {
        "id": "9bxKDOM1JOIn"
      },
      "execution_count": null,
      "outputs": []
    },
    {
      "cell_type": "code",
      "source": [
        "#eigen values and eigen vectors\n",
        "from numpy.linalg import eig\n",
        "H = np.array([[5,4],[2,3]])\n",
        "\n",
        "eigenvalues,eigenvectors = eig(H)\n",
        "print(H)\n",
        "print(eigenvalues)\n",
        "print(eigenvectors)"
      ],
      "metadata": {
        "colab": {
          "base_uri": "https://localhost:8080/"
        },
        "id": "gxMACBIXHqDT",
        "outputId": "03355740-1fea-4304-bee9-66ca69cbcdcc"
      },
      "execution_count": null,
      "outputs": [
        {
          "output_type": "stream",
          "name": "stdout",
          "text": [
            "[[5 4]\n",
            " [2 3]]\n",
            "[7. 1.]\n",
            "[[ 0.89442719 -0.70710678]\n",
            " [ 0.4472136   0.70710678]]\n"
          ]
        }
      ]
    },
    {
      "cell_type": "code",
      "source": [
        "Q =np.array([[-0.5547002 , -0.83205029],\n",
        " [-0.83205029 , 0.5547002 ]])\n",
        "\n",
        "result = np.dot(Q, Q.T)\n",
        "print(result)"
      ],
      "metadata": {
        "colab": {
          "base_uri": "https://localhost:8080/"
        },
        "id": "1VXiEt_8IjzT",
        "outputId": "a14aa4e2-6f04-4f7c-cb94-ccc96cf99499"
      },
      "execution_count": null,
      "outputs": [
        {
          "output_type": "stream",
          "name": "stdout",
          "text": [
            "[[ 9.99999997e-01 -1.62066738e-17]\n",
            " [-1.62066738e-17  9.99999997e-01]]\n"
          ]
        }
      ]
    },
    {
      "cell_type": "code",
      "source": [],
      "metadata": {
        "id": "nrM_G7TGJuPx"
      },
      "execution_count": null,
      "outputs": []
    }
  ]
}