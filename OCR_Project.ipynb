{
  "nbformat": 4,
  "nbformat_minor": 0,
  "metadata": {
    "colab": {
      "provenance": [],
      "authorship_tag": "ABX9TyOisB9RtAOW0qPg8iKVlUy5",
      "include_colab_link": true
    },
    "kernelspec": {
      "name": "python3",
      "display_name": "Python 3"
    },
    "language_info": {
      "name": "python"
    }
  },
  "cells": [
    {
      "cell_type": "markdown",
      "metadata": {
        "id": "view-in-github",
        "colab_type": "text"
      },
      "source": [
        "<a href=\"https://colab.research.google.com/github/quantumhome/DataAnalysisCaseStudy/blob/master/OCR_Project.ipynb\" target=\"_parent\"><img src=\"https://colab.research.google.com/assets/colab-badge.svg\" alt=\"Open In Colab\"/></a>"
      ]
    },
    {
      "cell_type": "code",
      "execution_count": 2,
      "metadata": {
        "id": "cRGNFlq3mTtk"
      },
      "outputs": [],
      "source": [
        "import numpy as np\n",
        "import pandas as pd\n",
        "import matplotlib.pyplot as plt\n",
        "import seaborn as sns"
      ]
    },
    {
      "cell_type": "code",
      "source": [
        "pip install Tesseract"
      ],
      "metadata": {
        "colab": {
          "base_uri": "https://localhost:8080/"
        },
        "id": "0sJnOFOum7Yf",
        "outputId": "d4cd87bb-11af-43d1-bda0-6ea478e6dec1"
      },
      "execution_count": 34,
      "outputs": [
        {
          "output_type": "stream",
          "name": "stdout",
          "text": [
            "Requirement already satisfied: Tesseract in /usr/local/lib/python3.11/dist-packages (0.1.3)\n"
          ]
        }
      ]
    },
    {
      "cell_type": "markdown",
      "source": [],
      "metadata": {
        "id": "8CTBzdd8nLBg"
      }
    },
    {
      "cell_type": "code",
      "source": [
        "pip install pytesseract"
      ],
      "metadata": {
        "colab": {
          "base_uri": "https://localhost:8080/"
        },
        "id": "ItieLCFPnL_h",
        "outputId": "4167afd3-ff9a-47b1-c0f2-1ebb29918626"
      },
      "execution_count": 35,
      "outputs": [
        {
          "output_type": "stream",
          "name": "stdout",
          "text": [
            "Requirement already satisfied: pytesseract in /usr/local/lib/python3.11/dist-packages (0.3.13)\n",
            "Requirement already satisfied: packaging>=21.3 in /usr/local/lib/python3.11/dist-packages (from pytesseract) (24.2)\n",
            "Requirement already satisfied: Pillow>=8.0.0 in /usr/local/lib/python3.11/dist-packages (from pytesseract) (11.2.1)\n"
          ]
        }
      ]
    },
    {
      "cell_type": "code",
      "source": [
        "pip install pillow"
      ],
      "metadata": {
        "colab": {
          "base_uri": "https://localhost:8080/"
        },
        "id": "jG6u4BUfnfAn",
        "outputId": "eb98fffa-c89c-45cd-d1ae-7f05617447a8"
      },
      "execution_count": 5,
      "outputs": [
        {
          "output_type": "stream",
          "name": "stdout",
          "text": [
            "Requirement already satisfied: pillow in /usr/local/lib/python3.11/dist-packages (11.2.1)\n"
          ]
        }
      ]
    },
    {
      "cell_type": "code",
      "source": [
        "!tesseract --version"
      ],
      "metadata": {
        "colab": {
          "base_uri": "https://localhost:8080/"
        },
        "id": "fe5z65IjzBX_",
        "outputId": "56e23c2c-1d83-4d67-ef2b-a90cff760253"
      },
      "execution_count": 45,
      "outputs": [
        {
          "output_type": "stream",
          "name": "stdout",
          "text": [
            "tesseract 4.1.1\n",
            " leptonica-1.82.0\n",
            "  libgif 5.1.9 : libjpeg 8d (libjpeg-turbo 2.1.1) : libpng 1.6.37 : libtiff 4.3.0 : zlib 1.2.11 : libwebp 1.2.2 : libopenjp2 2.4.0\n",
            " Found AVX2\n",
            " Found AVX\n",
            " Found FMA\n",
            " Found SSE\n",
            " Found libarchive 3.6.0 zlib/1.2.11 liblzma/5.2.5 bz2lib/1.0.8 liblz4/1.9.3 libzstd/1.4.8\n"
          ]
        }
      ]
    },
    {
      "cell_type": "code",
      "source": [
        "import pytesseract\n",
        "import cv2\n",
        "from PIL import Image\n",
        "from PIL import ImageEnhance, ImageFilter, Image\n",
        "\n",
        "# Set the path to the tesseract executable if it's not in your system's PATH\n",
        "pytesseract.pytesseract.tesseract_cmd = r'/usr/bin/tesseract'\n",
        "\n",
        "\n",
        "def ocr_image(image_path):\n",
        "    \"\"\"\n",
        "    Performs OCR on an image and returns the extracted text.\n",
        "\n",
        "    Args:\n",
        "        image_path (str): The path to the image file.\n",
        "\n",
        "    Returns:\n",
        "        str: The extracted text from the image.\n",
        "    \"\"\"\n",
        "    try:\n",
        "        img = cv2.imread('C:\\\\Users\\\\Lenovo\\\\Downloads\\\\results.JPG')\n",
        "        # Adding custom options\n",
        "        text= pytesseract.image_to_string(img)\n",
        "        image = Image.open('C:\\\\Users\\\\Lenovo\\\\Downloads\\\\results.jpg')\n",
        "        text = pytesseract.image_to_string(image)\n",
        "        return text\n",
        "    except Exception as e:\n",
        "        return f\"Error processing image: {e}\"\n",
        "\n",
        "if __name__ == \"__main__\":\n",
        "    image_file = r'C:\\Users\\Lenovo\\Downloads\\results.jpg'  # Replace with your image path\n",
        "    extracted_text = ocr_image(image_file)\n",
        "    print(extracted_text)"
      ],
      "metadata": {
        "colab": {
          "base_uri": "https://localhost:8080/"
        },
        "id": "c2NhditUnuzO",
        "outputId": "546170bb-0ee6-4fdf-8b22-dbe16ff2f571"
      },
      "execution_count": 58,
      "outputs": [
        {
          "output_type": "stream",
          "name": "stdout",
          "text": [
            "Error processing image: Unsupported image object\n"
          ]
        }
      ]
    }
  ]
}